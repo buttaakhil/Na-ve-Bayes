{
  "nbformat": 4,
  "nbformat_minor": 0,
  "metadata": {
    "colab": {
      "provenance": [],
      "authorship_tag": "ABX9TyOQWzlaJXBQFh1CtgvpPFSY",
      "include_colab_link": true
    },
    "kernelspec": {
      "name": "python3",
      "display_name": "Python 3"
    },
    "language_info": {
      "name": "python"
    }
  },
  "cells": [
    {
      "cell_type": "markdown",
      "metadata": {
        "id": "view-in-github",
        "colab_type": "text"
      },
      "source": [
        "<a href=\"https://colab.research.google.com/github/buttaakhil/Na-ve-Bayes/blob/main/Naive-Bayes-2.ipynb\" target=\"_parent\"><img src=\"https://colab.research.google.com/assets/colab-badge.svg\" alt=\"Open In Colab\"/></a>"
      ]
    },
    {
      "cell_type": "code",
      "execution_count": 1,
      "metadata": {
        "colab": {
          "base_uri": "https://localhost:8080/"
        },
        "id": "3YxEDeUKJYiM",
        "outputId": "b6d65a2e-f819-4744-97cb-63aed74b61cc"
      },
      "outputs": [
        {
          "output_type": "stream",
          "name": "stdout",
          "text": [
            "   Id  SepalLengthCm  SepalWidthCm  PetalLengthCm  PetalWidthCm      Species\n",
            "0   1            5.1           3.5            1.4           0.2  Iris-setosa\n",
            "1   2            4.9           3.0            1.4           0.2  Iris-setosa\n",
            "2   3            4.7           3.2            1.3           0.2  Iris-setosa\n",
            "3   4            4.6           3.1            1.5           0.2  Iris-setosa\n",
            "4   5            5.0           3.6            1.4           0.2  Iris-setosa\n",
            "Confusion Matrix:\n",
            "[[19  0  0]\n",
            " [ 0 12  1]\n",
            " [ 0  0 13]]\n",
            "\n",
            "Classification Report:\n",
            "                 precision    recall  f1-score   support\n",
            "\n",
            "    Iris-setosa       1.00      1.00      1.00        19\n",
            "Iris-versicolor       1.00      0.92      0.96        13\n",
            " Iris-virginica       0.93      1.00      0.96        13\n",
            "\n",
            "       accuracy                           0.98        45\n",
            "      macro avg       0.98      0.97      0.97        45\n",
            "   weighted avg       0.98      0.98      0.98        45\n",
            "\n",
            "\n",
            "Accuracy: 97.78%\n",
            "Error Rate: 2.22%\n"
          ]
        }
      ],
      "source": [
        "import pandas as pd\n",
        "from sklearn.model_selection import train_test_split\n",
        "from sklearn.naive_bayes import GaussianNB\n",
        "from sklearn.metrics import accuracy_score, confusion_matrix, classification_report\n",
        "\n",
        "iris_data = pd.read_csv('Iris.csv')\n",
        "\n",
        "print(iris_data.head())\n",
        "\n",
        "species_column = 'Species'\n",
        "features = iris_data.drop([species_column, 'Id'], axis=1)\n",
        "target = iris_data[species_column]\n",
        "\n",
        "features_train, features_test, target_train, target_test = train_test_split(features, target, test_size=0.3, random_state=42)\n",
        "\n",
        "naive_bayes_model = GaussianNB()\n",
        "naive_bayes_model.fit(features_train, target_train)\n",
        "\n",
        "target_pred = naive_bayes_model.predict(features_test)\n",
        "\n",
        "model_accuracy = accuracy_score(target_test, target_pred)\n",
        "model_error_rate = 1 - model_accuracy\n",
        "confusion_matrix_result = confusion_matrix(target_test, target_pred)\n",
        "classification_report_result = classification_report(target_test, target_pred, target_names=iris_data[species_column].unique())\n",
        "\n",
        "print(\"Confusion Matrix:\")\n",
        "print(confusion_matrix_result)\n",
        "print(\"\\nClassification Report:\")\n",
        "print(classification_report_result)\n",
        "print(f\"\\nAccuracy: {model_accuracy * 100:.2f}%\")\n",
        "print(f\"Error Rate: {model_error_rate * 100:.2f}%\")\n"
      ]
    }
  ]
}