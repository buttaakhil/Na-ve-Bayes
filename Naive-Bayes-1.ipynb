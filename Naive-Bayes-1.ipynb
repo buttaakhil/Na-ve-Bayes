{
  "nbformat": 4,
  "nbformat_minor": 0,
  "metadata": {
    "colab": {
      "provenance": [],
      "authorship_tag": "ABX9TyNyeOjP4Qo3Nt6Sg6sLDVAY",
      "include_colab_link": true
    },
    "kernelspec": {
      "name": "python3",
      "display_name": "Python 3"
    },
    "language_info": {
      "name": "python"
    }
  },
  "cells": [
    {
      "cell_type": "markdown",
      "metadata": {
        "id": "view-in-github",
        "colab_type": "text"
      },
      "source": [
        "<a href=\"https://colab.research.google.com/github/buttaakhil/Na-ve-Bayes/blob/main/Naive-Bayes-1.ipynb\" target=\"_parent\"><img src=\"https://colab.research.google.com/assets/colab-badge.svg\" alt=\"Open In Colab\"/></a>"
      ]
    },
    {
      "cell_type": "code",
      "execution_count": 1,
      "metadata": {
        "colab": {
          "base_uri": "https://localhost:8080/"
        },
        "id": "4XTrfCmJIB7K",
        "outputId": "4c983b8a-f591-4fe7-d2d2-7c55f5dfcbe6"
      },
      "outputs": [
        {
          "output_type": "stream",
          "name": "stdout",
          "text": [
            "   Day   Outlook Temp. Humidity    Wind Decision\n",
            "0    1     Sunny   Hot     High    Weak       No\n",
            "1    2     Sunny   Hot     High  Strong       No\n",
            "2    3  Overcast   Hot     High    Weak      Yes\n",
            "3    4      Rain  Mild     High    Weak      Yes\n",
            "4    5      Rain  Cool   Normal    Weak      Yes\n",
            "Confusion Matrix:\n",
            "[[1 1]\n",
            " [1 2]]\n",
            "\n",
            "Classification Report:\n",
            "              precision    recall  f1-score   support\n",
            "\n",
            "          No       0.50      0.50      0.50         2\n",
            "         Yes       0.67      0.67      0.67         3\n",
            "\n",
            "    accuracy                           0.60         5\n",
            "   macro avg       0.58      0.58      0.58         5\n",
            "weighted avg       0.60      0.60      0.60         5\n",
            "\n",
            "\n",
            "Accuracy: 60.00%\n",
            "Error Rate: 40.00%\n"
          ]
        }
      ],
      "source": [
        "import pandas as pd\n",
        "from sklearn.model_selection import train_test_split\n",
        "from sklearn.naive_bayes import CategoricalNB\n",
        "from sklearn.metrics import accuracy_score, confusion_matrix, classification_report\n",
        "\n",
        "data = pd.read_csv('decision_data.csv')\n",
        "\n",
        "print(data.head())\n",
        "\n",
        "label_column = 'Decision'\n",
        "\n",
        "data[label_column] = data[label_column].map({'Yes': 1, 'No': 0})\n",
        "\n",
        "data = data.drop('Day', axis=1)\n",
        "\n",
        "features = pd.get_dummies(data.drop(label_column, axis=1))\n",
        "target = data[label_column]\n",
        "\n",
        "features_train, features_test, target_train, target_test = train_test_split(features, target, test_size=0.3, random_state=42)\n",
        "\n",
        "nb_classifier = CategoricalNB()\n",
        "nb_classifier.fit(features_train, target_train)\n",
        "\n",
        "target_pred = nb_classifier.predict(features_test)\n",
        "\n",
        "model_accuracy = accuracy_score(target_test, target_pred)\n",
        "model_error_rate = 1 - model_accuracy\n",
        "confusion_mat = confusion_matrix(target_test, target_pred)\n",
        "classification_rep = classification_report(target_test, target_pred, target_names=['No', 'Yes'])\n",
        "\n",
        "print(\"Confusion Matrix:\")\n",
        "print(confusion_mat)\n",
        "print(\"\\nClassification Report:\")\n",
        "print(classification_rep)\n",
        "print(f\"\\nAccuracy: {model_accuracy * 100:.2f}%\")\n",
        "print(f\"Error Rate: {model_error_rate * 100:.2f}%\")\n"
      ]
    }
  ]
}